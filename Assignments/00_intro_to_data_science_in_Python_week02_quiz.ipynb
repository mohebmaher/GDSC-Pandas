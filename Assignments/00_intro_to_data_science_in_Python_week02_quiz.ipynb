{
 "cells": [
  {
   "cell_type": "markdown",
   "id": "b310e0a6-9170-44ad-9e40-080cf09ff81b",
   "metadata": {},
   "source": [
    "### For the following code, which of the following statements will not return `True`?"
   ]
  },
  {
   "cell_type": "code",
   "execution_count": 1,
   "id": "6e586362-0157-4649-86af-2b90ac5eb0ee",
   "metadata": {},
   "outputs": [],
   "source": [
    "import pandas as pd"
   ]
  },
  {
   "cell_type": "code",
   "execution_count": 2,
   "id": "58dbb874-bdd6-424c-a5e0-de4fbdac66c6",
   "metadata": {},
   "outputs": [
    {
     "data": {
      "text/plain": [
       "{'Ohio': 35000, 'Texas': 71000, 'Oregon': 16000, 'Utah': 5000}"
      ]
     },
     "execution_count": 2,
     "metadata": {},
     "output_type": "execute_result"
    }
   ],
   "source": [
    "sdata = {'Ohio': 35000, 'Texas': 71000, 'Oregon': 16000, 'Utah': 5000}\n",
    "sdata"
   ]
  },
  {
   "cell_type": "code",
   "execution_count": 3,
   "id": "2f3e1ea6-6599-4686-8fb8-c1e641fa800c",
   "metadata": {},
   "outputs": [
    {
     "data": {
      "text/plain": [
       "Ohio      35000\n",
       "Texas     71000\n",
       "Oregon    16000\n",
       "Utah       5000\n",
       "dtype: int64"
      ]
     },
     "execution_count": 3,
     "metadata": {},
     "output_type": "execute_result"
    }
   ],
   "source": [
    "obj1 = pd.Series(sdata)\n",
    "obj1"
   ]
  },
  {
   "cell_type": "code",
   "execution_count": 4,
   "id": "685bf03a-6d2d-45fd-b625-c9f8a3eab561",
   "metadata": {},
   "outputs": [
    {
     "data": {
      "text/plain": [
       "['California', 'Ohio', 'Oregon', 'Texas']"
      ]
     },
     "execution_count": 4,
     "metadata": {},
     "output_type": "execute_result"
    }
   ],
   "source": [
    "states = ['California', 'Ohio', 'Oregon', 'Texas']\n",
    "states"
   ]
  },
  {
   "cell_type": "code",
   "execution_count": 5,
   "id": "d54da86b-386c-47f0-8d4e-6c9b2c7d6022",
   "metadata": {},
   "outputs": [
    {
     "data": {
      "text/plain": [
       "California        NaN\n",
       "Ohio          35000.0\n",
       "Oregon        16000.0\n",
       "Texas         71000.0\n",
       "dtype: float64"
      ]
     },
     "execution_count": 5,
     "metadata": {},
     "output_type": "execute_result"
    }
   ],
   "source": [
    "obj2 = pd.Series(sdata, index=states)\n",
    "obj2"
   ]
  },
  {
   "cell_type": "code",
   "execution_count": 6,
   "id": "7cac5515-ee09-4f12-b9c2-2bffe5ef6b00",
   "metadata": {},
   "outputs": [
    {
     "data": {
      "text/plain": [
       "California     True\n",
       "Ohio          False\n",
       "Oregon        False\n",
       "Texas         False\n",
       "dtype: bool"
      ]
     },
     "execution_count": 6,
     "metadata": {},
     "output_type": "execute_result"
    }
   ],
   "source": [
    "obj3 = pd.isnull(obj2)\n",
    "obj3"
   ]
  },
  {
   "cell_type": "markdown",
   "id": "d1e35f18-b259-4999-80ed-aaa96f4019fc",
   "metadata": {},
   "source": [
    "> - `obj3['California']`\n",
    "> - **`obj2['California'] == None`**\n",
    "> - `import math; math.isnan(obj2['California'])`\n",
    "> - `x = obj2['California']; obj2['California'] != x`"
   ]
  },
  {
   "cell_type": "code",
   "execution_count": 7,
   "id": "5baac414-6396-4bd6-8250-24f9dbc721c6",
   "metadata": {},
   "outputs": [
    {
     "data": {
      "text/plain": [
       "False"
      ]
     },
     "execution_count": 7,
     "metadata": {},
     "output_type": "execute_result"
    }
   ],
   "source": [
    "obj2['California'] == None"
   ]
  },
  {
   "cell_type": "markdown",
   "id": "f3315337-a583-4c86-8479-667ef1b716f6",
   "metadata": {},
   "source": [
    "### In the following python code, the keys of the dictionary d represent student ranks and the value for each key is a student name. Which of the following can be used to extract rows with student ranks that are lower than or equal to 3?"
   ]
  },
  {
   "cell_type": "code",
   "execution_count": 8,
   "id": "b94d20b6-1ba0-4d19-8231-7a1e0b31c653",
   "metadata": {},
   "outputs": [],
   "source": [
    "import pandas as pd"
   ]
  },
  {
   "cell_type": "code",
   "execution_count": 9,
   "id": "d866503a-ff64-414b-bf16-1c5ca95ed22b",
   "metadata": {},
   "outputs": [
    {
     "data": {
      "text/plain": [
       "1    Alice\n",
       "2      Bob\n",
       "3     Rita\n",
       "4    Molly\n",
       "5     Ryan\n",
       "dtype: object"
      ]
     },
     "execution_count": 9,
     "metadata": {},
     "output_type": "execute_result"
    }
   ],
   "source": [
    "d = {'1': 'Alice','2': 'Bob','3': 'Rita','4': 'Molly','5': 'Ryan'}\n",
    "S = pd.Series(d)\n",
    "S"
   ]
  },
  {
   "cell_type": "markdown",
   "id": "07513c9d-5e74-4786-85b8-44d287ead221",
   "metadata": {},
   "source": [
    "> - `S.loc[0:2]`\n",
    "> - `S.iloc[0:2]`\n",
    "> - **`S.iloc[0:3]`**\n",
    "> - `S.loc[0:3]`"
   ]
  },
  {
   "cell_type": "code",
   "execution_count": 10,
   "id": "61c555a7-b401-448d-b962-9ad6e435a08a",
   "metadata": {},
   "outputs": [
    {
     "data": {
      "text/plain": [
       "1    Alice\n",
       "2      Bob\n",
       "3     Rita\n",
       "dtype: object"
      ]
     },
     "execution_count": 10,
     "metadata": {},
     "output_type": "execute_result"
    }
   ],
   "source": [
    "S.iloc[0:3]"
   ]
  },
  {
   "cell_type": "markdown",
   "id": "3429af21-3ca0-416d-9c77-104b75000fcd",
   "metadata": {},
   "source": [
    "### Suppose we have a DataFrame named `df`. We want to change the original DataFrame df in a way that all the column names are cast to upper case. Which of the following expressions is incorrect to perform the same?"
   ]
  },
  {
   "cell_type": "markdown",
   "id": "c729e21b-9ba2-47e8-835f-4da92477c089",
   "metadata": {},
   "source": [
    "> - `df = df.rename(mapper = lambda x: x.upper(), axis = 'columns')`\n",
    "> - `df = df.rename(mapper = lambda x: x.upper(), axis = 1)`\n",
    "> - **`df.rename(mapper = lambda x: x.upper(), axis = 1)`**\n",
    "> - `df.rename(mapper = lambda x: x.upper(), axis = 1, inplace = True)`"
   ]
  },
  {
   "cell_type": "markdown",
   "id": "98b4278a-ee63-468c-9d98-56da6cf6a5fa",
   "metadata": {},
   "source": [
    "### For the given DataFrame df we want to keep only the records with a toefl score greater than 105. Which of the following will not work?"
   ]
  },
  {
   "cell_type": "code",
   "execution_count": 11,
   "id": "5d2d05c5-9c7a-4206-8cdf-7b8ee9df2222",
   "metadata": {},
   "outputs": [
    {
     "data": {
      "text/html": [
       "<div>\n",
       "<style scoped>\n",
       "    .dataframe tbody tr th:only-of-type {\n",
       "        vertical-align: middle;\n",
       "    }\n",
       "\n",
       "    .dataframe tbody tr th {\n",
       "        vertical-align: top;\n",
       "    }\n",
       "\n",
       "    .dataframe thead th {\n",
       "        text-align: right;\n",
       "    }\n",
       "</style>\n",
       "<table border=\"1\" class=\"dataframe\">\n",
       "  <thead>\n",
       "    <tr style=\"text-align: right;\">\n",
       "      <th></th>\n",
       "      <th>gre score</th>\n",
       "      <th>toefl score</th>\n",
       "    </tr>\n",
       "    <tr>\n",
       "      <th>Serial No.</th>\n",
       "      <th></th>\n",
       "      <th></th>\n",
       "    </tr>\n",
       "  </thead>\n",
       "  <tbody>\n",
       "    <tr>\n",
       "      <th>1</th>\n",
       "      <td>337</td>\n",
       "      <td>118</td>\n",
       "    </tr>\n",
       "    <tr>\n",
       "      <th>2</th>\n",
       "      <td>324</td>\n",
       "      <td>107</td>\n",
       "    </tr>\n",
       "    <tr>\n",
       "      <th>3</th>\n",
       "      <td>316</td>\n",
       "      <td>104</td>\n",
       "    </tr>\n",
       "    <tr>\n",
       "      <th>4</th>\n",
       "      <td>322</td>\n",
       "      <td>110</td>\n",
       "    </tr>\n",
       "    <tr>\n",
       "      <th>5</th>\n",
       "      <td>314</td>\n",
       "      <td>103</td>\n",
       "    </tr>\n",
       "  </tbody>\n",
       "</table>\n",
       "</div>"
      ],
      "text/plain": [
       "            gre score  toefl score\n",
       "Serial No.                        \n",
       "1                 337          118\n",
       "2                 324          107\n",
       "3                 316          104\n",
       "4                 322          110\n",
       "5                 314          103"
      ]
     },
     "execution_count": 11,
     "metadata": {},
     "output_type": "execute_result"
    }
   ],
   "source": [
    "df = pd.DataFrame(\n",
    "    data=[[337, 118],\n",
    "         [324, 107],\n",
    "         [316, 104],\n",
    "         [322, 110],\n",
    "         [314, 103]],\n",
    "    index=list(range(1, 6)),\n",
    "    columns=[\"gre score\", 'toefl score']\n",
    ")\n",
    "df.index.name = \"Serial No.\"\n",
    "df"
   ]
  },
  {
   "cell_type": "markdown",
   "id": "52da21bb-ee27-4bc0-901a-be953c58938a",
   "metadata": {},
   "source": [
    "> - **`df.where(df['toefl score'] > 105)`**\n",
    "> - `df.where(df['toefl score'] > 105).dropna()`\n",
    "> - `df[df['toefl score'] > 105]`\n",
    "> - `All of these will work`"
   ]
  },
  {
   "cell_type": "code",
   "execution_count": 12,
   "id": "863499ec-dee7-4dce-bd71-d7dc13e7875f",
   "metadata": {},
   "outputs": [
    {
     "data": {
      "text/html": [
       "<div>\n",
       "<style scoped>\n",
       "    .dataframe tbody tr th:only-of-type {\n",
       "        vertical-align: middle;\n",
       "    }\n",
       "\n",
       "    .dataframe tbody tr th {\n",
       "        vertical-align: top;\n",
       "    }\n",
       "\n",
       "    .dataframe thead th {\n",
       "        text-align: right;\n",
       "    }\n",
       "</style>\n",
       "<table border=\"1\" class=\"dataframe\">\n",
       "  <thead>\n",
       "    <tr style=\"text-align: right;\">\n",
       "      <th></th>\n",
       "      <th>gre score</th>\n",
       "      <th>toefl score</th>\n",
       "    </tr>\n",
       "    <tr>\n",
       "      <th>Serial No.</th>\n",
       "      <th></th>\n",
       "      <th></th>\n",
       "    </tr>\n",
       "  </thead>\n",
       "  <tbody>\n",
       "    <tr>\n",
       "      <th>1</th>\n",
       "      <td>337.0</td>\n",
       "      <td>118.0</td>\n",
       "    </tr>\n",
       "    <tr>\n",
       "      <th>2</th>\n",
       "      <td>324.0</td>\n",
       "      <td>107.0</td>\n",
       "    </tr>\n",
       "    <tr>\n",
       "      <th>3</th>\n",
       "      <td>NaN</td>\n",
       "      <td>NaN</td>\n",
       "    </tr>\n",
       "    <tr>\n",
       "      <th>4</th>\n",
       "      <td>322.0</td>\n",
       "      <td>110.0</td>\n",
       "    </tr>\n",
       "    <tr>\n",
       "      <th>5</th>\n",
       "      <td>NaN</td>\n",
       "      <td>NaN</td>\n",
       "    </tr>\n",
       "  </tbody>\n",
       "</table>\n",
       "</div>"
      ],
      "text/plain": [
       "            gre score  toefl score\n",
       "Serial No.                        \n",
       "1               337.0        118.0\n",
       "2               324.0        107.0\n",
       "3                 NaN          NaN\n",
       "4               322.0        110.0\n",
       "5                 NaN          NaN"
      ]
     },
     "execution_count": 12,
     "metadata": {},
     "output_type": "execute_result"
    }
   ],
   "source": [
    "df.where(df['toefl score'] > 105)"
   ]
  },
  {
   "cell_type": "markdown",
   "id": "a74b78d0-8342-428e-8373-cf3f41db190b",
   "metadata": {},
   "source": [
    "### Which of the following can be used to create a DataFrame in Pandas?"
   ]
  },
  {
   "cell_type": "markdown",
   "id": "792d3f5a-3268-4b06-9de2-da2a7e55ce70",
   "metadata": {},
   "source": [
    "> - Pandas `Series` object\n",
    "> - **All of these work**\n",
    "> - Python `dict`\n",
    "> - 2D `ndarray`"
   ]
  },
  {
   "cell_type": "markdown",
   "id": "d79930d0-904f-4d72-831a-49f827bc8137",
   "metadata": {},
   "source": [
    "### Which of the following is an incorrect way to drop entries from the Pandas DataFrame named `df` shown below?"
   ]
  },
  {
   "cell_type": "code",
   "execution_count": 13,
   "id": "3f078b1a-5398-438a-b2a1-b5459ba1baee",
   "metadata": {},
   "outputs": [],
   "source": [
    "import numpy as np"
   ]
  },
  {
   "cell_type": "code",
   "execution_count": 14,
   "id": "47407177-3e74-48db-b4fd-9bd10026b257",
   "metadata": {},
   "outputs": [
    {
     "data": {
      "text/html": [
       "<div>\n",
       "<style scoped>\n",
       "    .dataframe tbody tr th:only-of-type {\n",
       "        vertical-align: middle;\n",
       "    }\n",
       "\n",
       "    .dataframe tbody tr th {\n",
       "        vertical-align: top;\n",
       "    }\n",
       "\n",
       "    .dataframe thead th {\n",
       "        text-align: right;\n",
       "    }\n",
       "</style>\n",
       "<table border=\"1\" class=\"dataframe\">\n",
       "  <thead>\n",
       "    <tr style=\"text-align: right;\">\n",
       "      <th></th>\n",
       "      <th>one</th>\n",
       "      <th>two</th>\n",
       "      <th>three</th>\n",
       "      <th>four</th>\n",
       "    </tr>\n",
       "  </thead>\n",
       "  <tbody>\n",
       "    <tr>\n",
       "      <th>Ohio</th>\n",
       "      <td>0</td>\n",
       "      <td>1</td>\n",
       "      <td>2</td>\n",
       "      <td>3</td>\n",
       "    </tr>\n",
       "    <tr>\n",
       "      <th>Colorado</th>\n",
       "      <td>4</td>\n",
       "      <td>5</td>\n",
       "      <td>6</td>\n",
       "      <td>7</td>\n",
       "    </tr>\n",
       "    <tr>\n",
       "      <th>Utah</th>\n",
       "      <td>8</td>\n",
       "      <td>9</td>\n",
       "      <td>10</td>\n",
       "      <td>11</td>\n",
       "    </tr>\n",
       "    <tr>\n",
       "      <th>New York</th>\n",
       "      <td>12</td>\n",
       "      <td>13</td>\n",
       "      <td>14</td>\n",
       "      <td>15</td>\n",
       "    </tr>\n",
       "  </tbody>\n",
       "</table>\n",
       "</div>"
      ],
      "text/plain": [
       "          one  two  three  four\n",
       "Ohio        0    1      2     3\n",
       "Colorado    4    5      6     7\n",
       "Utah        8    9     10    11\n",
       "New York   12   13     14    15"
      ]
     },
     "execution_count": 14,
     "metadata": {},
     "output_type": "execute_result"
    }
   ],
   "source": [
    "df = pd.DataFrame(\n",
    "    data=np.arange(16).astype(int).reshape(4, 4),\n",
    "    index=[\"Ohio\", \"Colorado\", \"Utah\", \"New York\"],\n",
    "    columns=[\"one\", \"two\", \"three\", \"four\"]\n",
    ")\n",
    "df"
   ]
  },
  {
   "cell_type": "markdown",
   "id": "8c7a2382-6c9b-49ad-94fc-13e758e60ed1",
   "metadata": {},
   "source": [
    "> - **`df.drop('two')`**\n",
    "> - `df.drop(['Utah', 'Colorado'])`\n",
    "> - `df.drop('one', axis = 1)`\n",
    "> - `df.drop('Ohio')`"
   ]
  },
  {
   "cell_type": "code",
   "execution_count": 15,
   "id": "94a24134-5ec1-4fc2-8e98-eee7fae381ba",
   "metadata": {},
   "outputs": [
    {
     "name": "stdout",
     "output_type": "stream",
     "text": [
      "\"['two'] not found in axis\"\n"
     ]
    }
   ],
   "source": [
    "try:\n",
    "    df.drop(\"two\")\n",
    "except KeyError as e:\n",
    "    print(e)"
   ]
  },
  {
   "cell_type": "markdown",
   "id": "9275c0ac-6bb8-41a5-b589-e5d930b82657",
   "metadata": {},
   "source": [
    "### For the Series `s1` and `s2` defined below, which of the following statements will give an error?"
   ]
  },
  {
   "cell_type": "code",
   "execution_count": 16,
   "id": "02f65d99-2124-4430-aaf6-a06655892c52",
   "metadata": {},
   "outputs": [],
   "source": [
    "import pandas as pd"
   ]
  },
  {
   "cell_type": "code",
   "execution_count": 17,
   "id": "0c8c8060-7649-41e2-bf12-aab6d4ef76f3",
   "metadata": {},
   "outputs": [
    {
     "data": {
      "text/plain": [
       "1    Alice\n",
       "2     Jack\n",
       "3    Molly\n",
       "dtype: object"
      ]
     },
     "execution_count": 17,
     "metadata": {},
     "output_type": "execute_result"
    }
   ],
   "source": [
    "s1 = pd.Series({1: 'Alice', 2: 'Jack', 3: 'Molly'})\n",
    "s1"
   ]
  },
  {
   "cell_type": "code",
   "execution_count": 18,
   "id": "f732c96a-ce79-4140-b511-3b70d522c869",
   "metadata": {},
   "outputs": [
    {
     "data": {
      "text/plain": [
       "Alice    1\n",
       "Jack     2\n",
       "Molly    3\n",
       "dtype: int64"
      ]
     },
     "execution_count": 18,
     "metadata": {},
     "output_type": "execute_result"
    }
   ],
   "source": [
    "s2 = pd.Series({'Alice': 1, 'Jack': 2, 'Molly': 3})\n",
    "s2"
   ]
  },
  {
   "cell_type": "markdown",
   "id": "10fc6c7f-6784-49a4-bc87-f971e4317a67",
   "metadata": {},
   "source": [
    "> - `s2.iloc[1]`\n",
    "> - **`s2.loc[1]`**\n",
    "> - `s1.loc[1]`\n",
    "> - **`s2[1]`**"
   ]
  },
  {
   "cell_type": "code",
   "execution_count": 19,
   "id": "4cf2fe81-7571-44b3-9fea-4964d8a6c7a7",
   "metadata": {},
   "outputs": [
    {
     "name": "stdout",
     "output_type": "stream",
     "text": [
      "1\n"
     ]
    }
   ],
   "source": [
    "try:\n",
    "    s2.loc[1]\n",
    "except KeyError as e:\n",
    "    print(e)"
   ]
  },
  {
   "cell_type": "code",
   "execution_count": 20,
   "id": "4cbbcc09-5936-404b-9259-768c858d28e8",
   "metadata": {},
   "outputs": [
    {
     "name": "stderr",
     "output_type": "stream",
     "text": [
      "C:\\Users\\MOHEB_MAHER\\AppData\\Local\\Temp\\ipykernel_15104\\2825080482.py:1: FutureWarning: Series.__getitem__ treating keys as positions is deprecated. In a future version, integer keys will always be treated as labels (consistent with DataFrame behavior). To access a value by position, use `ser.iloc[pos]`\n",
      "  s2[1]\n"
     ]
    },
    {
     "data": {
      "text/plain": [
       "2"
      ]
     },
     "execution_count": 20,
     "metadata": {},
     "output_type": "execute_result"
    }
   ],
   "source": [
    "s2[1]"
   ]
  },
  {
   "cell_type": "markdown",
   "id": "8bc31b56-dbb4-48df-96fc-38b66101a009",
   "metadata": {},
   "source": [
    "### Which of the following statements is incorrect?"
   ]
  },
  {
   "cell_type": "markdown",
   "id": "30b2f85a-8403-45b7-993c-f67b5dc3c87f",
   "metadata": {},
   "source": [
    "> - **`loc` and `iloc` are two useful and commonly used Pandas methods.**\n",
    "> - If `s` and `s1` are two `pd.Series` objects, we cannot use `s.append(s1)` to directly append `s1` to the existing series `s`.\n",
    "> - If `s` is a `pd.Series` object, then we can use `s.loc[<label>]` to get all data where the index is equal to `<label>`.\n",
    "> - We can use `s.iteritems()` on a `pd.Series` object `s` to iterate on it."
   ]
  },
  {
   "cell_type": "markdown",
   "id": "b07f5544-ce83-4ba6-9724-9f458e06c128",
   "metadata": {},
   "source": [
    "### For the given DataFrame df shown below, we want to get all records with a toefl score greater than 105 but smaller than 115. Which of the following expressions is incorrect to perform the same?"
   ]
  },
  {
   "cell_type": "code",
   "execution_count": 21,
   "id": "22efb25d-a8bd-4c77-996e-5eb46bf65ac4",
   "metadata": {},
   "outputs": [
    {
     "data": {
      "text/html": [
       "<div>\n",
       "<style scoped>\n",
       "    .dataframe tbody tr th:only-of-type {\n",
       "        vertical-align: middle;\n",
       "    }\n",
       "\n",
       "    .dataframe tbody tr th {\n",
       "        vertical-align: top;\n",
       "    }\n",
       "\n",
       "    .dataframe thead th {\n",
       "        text-align: right;\n",
       "    }\n",
       "</style>\n",
       "<table border=\"1\" class=\"dataframe\">\n",
       "  <thead>\n",
       "    <tr style=\"text-align: right;\">\n",
       "      <th></th>\n",
       "      <th>gre score</th>\n",
       "      <th>toefl score</th>\n",
       "    </tr>\n",
       "    <tr>\n",
       "      <th>Serial No.</th>\n",
       "      <th></th>\n",
       "      <th></th>\n",
       "    </tr>\n",
       "  </thead>\n",
       "  <tbody>\n",
       "    <tr>\n",
       "      <th>1</th>\n",
       "      <td>337</td>\n",
       "      <td>118</td>\n",
       "    </tr>\n",
       "    <tr>\n",
       "      <th>2</th>\n",
       "      <td>324</td>\n",
       "      <td>107</td>\n",
       "    </tr>\n",
       "    <tr>\n",
       "      <th>3</th>\n",
       "      <td>316</td>\n",
       "      <td>104</td>\n",
       "    </tr>\n",
       "    <tr>\n",
       "      <th>4</th>\n",
       "      <td>322</td>\n",
       "      <td>110</td>\n",
       "    </tr>\n",
       "    <tr>\n",
       "      <th>5</th>\n",
       "      <td>314</td>\n",
       "      <td>103</td>\n",
       "    </tr>\n",
       "  </tbody>\n",
       "</table>\n",
       "</div>"
      ],
      "text/plain": [
       "            gre score  toefl score\n",
       "Serial No.                        \n",
       "1                 337          118\n",
       "2                 324          107\n",
       "3                 316          104\n",
       "4                 322          110\n",
       "5                 314          103"
      ]
     },
     "execution_count": 21,
     "metadata": {},
     "output_type": "execute_result"
    }
   ],
   "source": [
    "df = pd.DataFrame(\n",
    "    data=[[337, 118],\n",
    "         [324, 107],\n",
    "         [316, 104],\n",
    "         [322, 110],\n",
    "         [314, 103]],\n",
    "    index=list(range(1, 6)),\n",
    "    columns=[\"gre score\", 'toefl score']\n",
    ")\n",
    "df.index.name = \"Serial No.\"\n",
    "df"
   ]
  },
  {
   "cell_type": "markdown",
   "id": "16d69964-50a7-4e3d-ad0c-7cfd3e4a57b2",
   "metadata": {},
   "source": [
    "> - **`(df['toefl score'] > 105) & (df['toefl score'] < 115)`**\n",
    "> - `df[df['toefl score'].gt(105) & df['toefl score'].lt(115)]`\n",
    "> - `df[(df['toefl score'] > 105) & (df['toefl score'] < 115)]`\n",
    "> - `df[(df['toefl score'].isin(range(106, 115)))]`"
   ]
  },
  {
   "cell_type": "code",
   "execution_count": 22,
   "id": "e5a5ff0b-7959-4ecc-b95a-68392680f885",
   "metadata": {},
   "outputs": [
    {
     "data": {
      "text/plain": [
       "Serial No.\n",
       "1    False\n",
       "2     True\n",
       "3    False\n",
       "4     True\n",
       "5    False\n",
       "Name: toefl score, dtype: bool"
      ]
     },
     "execution_count": 22,
     "metadata": {},
     "output_type": "execute_result"
    }
   ],
   "source": [
    "(df['toefl score'] > 105) & (df['toefl score'] < 115)"
   ]
  },
  {
   "cell_type": "markdown",
   "id": "06c25af6-a1f2-4694-be35-4bd07d5e2a60",
   "metadata": {},
   "source": [
    "### Which of the following is the correct way to extract all information related to the student named Alice from the DataFrame df given below:"
   ]
  },
  {
   "cell_type": "code",
   "execution_count": 23,
   "id": "0020c69c-bce7-4dd4-8aa1-17fcd83b3db3",
   "metadata": {},
   "outputs": [
    {
     "data": {
      "text/html": [
       "<div>\n",
       "<style scoped>\n",
       "    .dataframe tbody tr th:only-of-type {\n",
       "        vertical-align: middle;\n",
       "    }\n",
       "\n",
       "    .dataframe tbody tr th {\n",
       "        vertical-align: top;\n",
       "    }\n",
       "\n",
       "    .dataframe thead th {\n",
       "        text-align: right;\n",
       "    }\n",
       "</style>\n",
       "<table border=\"1\" class=\"dataframe\">\n",
       "  <thead>\n",
       "    <tr style=\"text-align: right;\">\n",
       "      <th></th>\n",
       "      <th>NAme</th>\n",
       "      <th>Age</th>\n",
       "      <th>Gender</th>\n",
       "    </tr>\n",
       "    <tr>\n",
       "      <th>(Major)</th>\n",
       "      <th></th>\n",
       "      <th></th>\n",
       "      <th></th>\n",
       "    </tr>\n",
       "  </thead>\n",
       "  <tbody>\n",
       "    <tr>\n",
       "      <th>Mathematics</th>\n",
       "      <td>Alice</td>\n",
       "      <td>20</td>\n",
       "      <td>F</td>\n",
       "    </tr>\n",
       "    <tr>\n",
       "      <th>Sociology</th>\n",
       "      <td>Jack</td>\n",
       "      <td>22</td>\n",
       "      <td>M</td>\n",
       "    </tr>\n",
       "  </tbody>\n",
       "</table>\n",
       "</div>"
      ],
      "text/plain": [
       "              NAme  Age Gender\n",
       "(Major)                       \n",
       "Mathematics  Alice   20      F\n",
       "Sociology     Jack   22      M"
      ]
     },
     "execution_count": 23,
     "metadata": {},
     "output_type": "execute_result"
    }
   ],
   "source": [
    "df = pd.DataFrame(\n",
    "    data=[[\"Alice\", 20, \"F\"],\n",
    "         [\"Jack\", 22, \"M\"]],\n",
    "    index=[\"Mathematics\", \"Sociology\"],\n",
    "    columns=[\"NAme\", \"Age\", \"Gender\"]\n",
    ")\n",
    "df.index.name = \"(Major)\"\n",
    "df"
   ]
  },
  {
   "cell_type": "markdown",
   "id": "c756833e-3c57-404d-bdec-e52c770fd4c5",
   "metadata": {},
   "source": [
    "> - `df.iloc['Mathematics']`\n",
    "> - `df['Alice']`\n",
    "> - **`df.T['Mathematics']`**\n",
    "> - `df['Mathematics']`"
   ]
  },
  {
   "cell_type": "code",
   "execution_count": 24,
   "id": "79ec18a9-7235-40eb-9b28-e39cc13ffc23",
   "metadata": {},
   "outputs": [
    {
     "data": {
      "text/plain": [
       "NAme      Alice\n",
       "Age          20\n",
       "Gender        F\n",
       "Name: Mathematics, dtype: object"
      ]
     },
     "execution_count": 24,
     "metadata": {},
     "output_type": "execute_result"
    }
   ],
   "source": [
    "df.T['Mathematics']"
   ]
  },
  {
   "cell_type": "code",
   "execution_count": null,
   "id": "faa2568a-71c8-4c5e-b8cf-5632e2397de8",
   "metadata": {},
   "outputs": [],
   "source": []
  }
 ],
 "metadata": {
  "kernelspec": {
   "display_name": "The-Matrix",
   "language": "python",
   "name": "the-matrix"
  },
  "language_info": {
   "codemirror_mode": {
    "name": "ipython",
    "version": 3
   },
   "file_extension": ".py",
   "mimetype": "text/x-python",
   "name": "python",
   "nbconvert_exporter": "python",
   "pygments_lexer": "ipython3",
   "version": "3.11.6"
  }
 },
 "nbformat": 4,
 "nbformat_minor": 5
}
