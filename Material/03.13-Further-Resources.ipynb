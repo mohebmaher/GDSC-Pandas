{
 "cells": [
  {
   "cell_type": "markdown",
   "metadata": {},
   "source": [
    "# Further Resources"
   ]
  },
  {
   "cell_type": "markdown",
   "metadata": {
    "deletable": true,
    "editable": true
   },
   "source": [
    "- To learn more about Pandas, I recommend the following resources:\n",
    "\n",
    "> - [Pandas online documentation](http://pandas.pydata.org/):\n",
    ">> - This is the go-to source for complete documentation of the package.\n",
    ">> - While the examples in the documentation tend to be based on small generated datasets, the description of the options is complete and generally very useful for understanding the use of various functions.\n",
    "\n",
    "> - [*Python for Data Analysis*](https://learning.oreilly.com/library/view/python-for-data/9781098104023/):\n",
    ">> - Written by Wes McKinney (the original creator of Pandas), this book contains much more detail on the Pandas package than we had room for in this chapter.\n",
    ">> - In particular, McKinney takes a deep dive into tools for time series, which were his bread and butter as a financial consultant.\n",
    ">> - The book also has many entertaining examples of applying Pandas to gain insight from real-world datasets.\n",
    "\n",
    "> - [*Effective Pandas*](https://leanpub.com/effective-pandas):\n",
    ">> - This short e-book by Pandas developer Tom Augspurger provides a succinct outline of using the full power of the Pandas library in an effective and idiomatic way."
   ]
  },
  {
   "cell_type": "code",
   "execution_count": null,
   "metadata": {},
   "outputs": [],
   "source": []
  }
 ],
 "metadata": {
  "anaconda-cloud": {},
  "jupytext": {
   "formats": "ipynb,md"
  },
  "kernelspec": {
   "display_name": "Python 3 (ipykernel)",
   "language": "python",
   "name": "python3"
  },
  "language_info": {
   "codemirror_mode": {
    "name": "ipython",
    "version": 3
   },
   "file_extension": ".py",
   "mimetype": "text/x-python",
   "name": "python",
   "nbconvert_exporter": "python",
   "pygments_lexer": "ipython3",
   "version": "3.11.6"
  }
 },
 "nbformat": 4,
 "nbformat_minor": 4
}
