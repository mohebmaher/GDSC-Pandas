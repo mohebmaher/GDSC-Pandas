{
 "cells": [
  {
   "cell_type": "markdown",
   "metadata": {},
   "source": [
    "# Data Manipulation with Pandas"
   ]
  },
  {
   "cell_type": "markdown",
   "metadata": {},
   "source": [
    "- NumPy and its `ndarray` object, which enables **efficient storage and manipulation** of dense typed arrays in Python.\n",
    "- The **limitations** of NumPy's `ndarray` data structure become clear:\n",
    "> - When we need **more flexibility** (e.g., attaching labels to data, working with missing data, etc.),\n",
    "> - When attempting **operations that do not map well to element-wise broadcasting** (e.g., groupings, pivots, etc.)."
   ]
  },
  {
   "cell_type": "markdown",
   "metadata": {},
   "source": [
    "- Pandas is a newer package **built on top of NumPy** that provides an efficient implementation of a **`DataFrame`**.\n",
    "- ``DataFrame``s are essentially **multidimensional** arrays with attached **row** and **column** labels, often with **heterogeneous** types and/or **missing data**.\n",
    "- Pandas, and in particular its `Series` and `DataFrame` objects, builds on the NumPy array structure and provides efficient access to these sorts of **\"data munging\"** tasks that occupy much of a data scientist's time."
   ]
  },
  {
   "cell_type": "markdown",
   "metadata": {},
   "source": [
    "## Installing and Using Pandas"
   ]
  },
  {
   "cell_type": "markdown",
   "metadata": {},
   "source": [
    "- Installation of Pandas on your system **requires NumPy** to be installed.\n",
    "- **Details** on the installation process can be found in the [Pandas documentation](http://pandas.pydata.org/).\n",
    "- If you are using the **Anaconda stack**, you already have Pandas installed."
   ]
  },
  {
   "cell_type": "markdown",
   "metadata": {},
   "source": [
    "- Once Pandas is installed, you can import it and **check the version**:"
   ]
  },
  {
   "cell_type": "code",
   "execution_count": 1,
   "metadata": {
    "collapsed": false,
    "jupyter": {
     "outputs_hidden": false
    }
   },
   "outputs": [
    {
     "data": {
      "text/plain": [
       "'2.2.0'"
      ]
     },
     "execution_count": 1,
     "metadata": {},
     "output_type": "execute_result"
    }
   ],
   "source": [
    "import pandas\n",
    "pandas.__version__"
   ]
  },
  {
   "cell_type": "markdown",
   "metadata": {},
   "source": [
    "- Just as we generally import NumPy under the alias `np`, we will **import Pandas under the alias `pd`**:"
   ]
  },
  {
   "cell_type": "code",
   "execution_count": 2,
   "metadata": {
    "tags": []
   },
   "outputs": [],
   "source": [
    "import pandas as pd"
   ]
  },
  {
   "cell_type": "code",
   "execution_count": null,
   "metadata": {},
   "outputs": [],
   "source": []
  }
 ],
 "metadata": {
  "anaconda-cloud": {},
  "jupytext": {
   "formats": "ipynb,md"
  },
  "kernelspec": {
   "display_name": "Python 3 (ipykernel)",
   "language": "python",
   "name": "python3"
  },
  "language_info": {
   "codemirror_mode": {
    "name": "ipython",
    "version": 3
   },
   "file_extension": ".py",
   "mimetype": "text/x-python",
   "name": "python",
   "nbconvert_exporter": "python",
   "pygments_lexer": "ipython3",
   "version": "3.11.6"
  }
 },
 "nbformat": 4,
 "nbformat_minor": 4
}
